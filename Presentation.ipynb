{
 "cells": [
  {
   "cell_type": "markdown",
   "metadata": {
    "slideshow": {
     "slide_type": "slide"
    }
   },
   "source": [
    "# Test driven development (TDD)\n",
    "***\n",
    "\n",
    "### Simon Renner"
   ]
  },
  {
   "cell_type": "markdown",
   "metadata": {
    "slideshow": {
     "slide_type": "slide"
    }
   },
   "source": [
    "# What we will cover today\n",
    "\n",
    "- What test-driven development (TDD) is\n",
    "    - how to write tests\n",
    "    - how to use a test runner\n",
    "    - mocks\n",
    "    - fixtures\n",
    "- How it feels to use TDD\n",
    "    - different test types\n",
    "    - TDD work flow\n",
    "    - TDD philosophy\n",
    "- How TDD can be applied in a scientific environment\n",
    "    - how it can help your work group\n",
    "    - how it can help your collaborators"
   ]
  },
  {
   "cell_type": "markdown",
   "metadata": {
    "slideshow": {
     "slide_type": "slide"
    }
   },
   "source": [
    "# How some people think of TDD\n",
    "![goat](../testing-goat-book.jpg)"
   ]
  },
  {
   "cell_type": "markdown",
   "metadata": {},
   "source": [
    "\"TDD is a goat looking over your shoulder.\" This is a cute image (and the book is really great!) but it makes TDD look like something you don't want to do."
   ]
  },
  {
   "cell_type": "markdown",
   "metadata": {
    "slideshow": {
     "slide_type": "slide"
    }
   },
   "source": [
    "# How I hope you think of TDD after this session\n",
    "\n",
    "- TDD makes you program better\n",
    "- TDD is fun\n",
    "- TDD fits right in with what I want to do"
   ]
  },
  {
   "cell_type": "markdown",
   "metadata": {
    "slideshow": {
     "slide_type": "slide"
    }
   },
   "source": [
    "# Production-ready code in science"
   ]
  },
  {
   "cell_type": "markdown",
   "metadata": {
    "slideshow": {
     "slide_type": "fragment"
    }
   },
   "source": [
    "Should be ...\n",
    "- functional\n",
    "- readable\n",
    "- sharable\n",
    "- modular\n",
    "- understandable by a newbie"
   ]
  },
  {
   "cell_type": "markdown",
   "metadata": {
    "slideshow": {
     "slide_type": "fragment"
    }
   },
   "source": [
    "Usually, none of this is the case"
   ]
  },
  {
   "cell_type": "markdown",
   "metadata": {
    "slideshow": {
     "slide_type": "fragment"
    }
   },
   "source": [
    "TDD can help you to get there"
   ]
  },
  {
   "cell_type": "markdown",
   "metadata": {
    "slideshow": {
     "slide_type": "slide"
    }
   },
   "source": [
    "# Essentially, you are already doing a lot of testing"
   ]
  },
  {
   "cell_type": "code",
   "execution_count": null,
   "metadata": {
    "slideshow": {
     "slide_type": "fragment"
    }
   },
   "outputs": [],
   "source": [
    "a = 5\n",
    "b = 6\n",
    "print(a*b)"
   ]
  },
  {
   "cell_type": "markdown",
   "metadata": {
    "slideshow": {
     "slide_type": "fragment"
    }
   },
   "source": [
    "However, you don't save the tests so you spend a lot of time repeatedly testing things because you are not quite sure or don't remember."
   ]
  },
  {
   "cell_type": "markdown",
   "metadata": {
    "slideshow": {
     "slide_type": "fragment"
    }
   },
   "source": [
    "Additionally, you probably spend a lot of time debugging because if something is wrong you have trouble finding what exactly is wrong."
   ]
  },
  {
   "cell_type": "markdown",
   "metadata": {
    "slideshow": {
     "slide_type": "slide"
    }
   },
   "source": [
    "# What a test looks like"
   ]
  },
  {
   "cell_type": "code",
   "execution_count": null,
   "metadata": {
    "slideshow": {
     "slide_type": "fragment"
    }
   },
   "outputs": [],
   "source": [
    "def test_built_in_multiplication():\n",
    "    a = 5\n",
    "    b = 6 \n",
    "    expectation = 30\n",
    "    assert a*b == expectation"
   ]
  },
  {
   "cell_type": "markdown",
   "metadata": {
    "slideshow": {
     "slide_type": "slide"
    }
   },
   "source": [
    "# What TDD looks like"
   ]
  },
  {
   "cell_type": "markdown",
   "metadata": {
    "slideshow": {
     "slide_type": "fragment"
    }
   },
   "source": [
    "1. Write a test\n",
    "2. Write code to make the test pass\n",
    "3. Look at the code again and make it better without breaking the test\n",
    "![tdd](../TDD.jpg)"
   ]
  },
  {
   "cell_type": "markdown",
   "metadata": {
    "slideshow": {
     "slide_type": "slide"
    }
   },
   "source": [
    "# From the life of a scientist\n",
    "\n",
    "- We got very lucky and an excellent experimentalist wants to collaborate with us\n",
    "- She will send us data that we can analyze\n",
    "- In a couple of days we will get data from her containing neuronal action potentials, so-called spikes\n",
    "- She told us she will send a list of events indicating whether a spike occurred at the time point (1) or not (0) and the sampling_rate at which the data was recorded\n",
    "- Our job is to calculate the mean firing rate from this data\n",
    "- Full of motivation, we start preparing an analysis script (this is where the initial commit of the repo starts. You can go through the commits to follow the programming example)."
   ]
  },
  {
   "cell_type": "markdown",
   "metadata": {
    "slideshow": {
     "slide_type": "slide"
    }
   },
   "source": [
    "# Decorators"
   ]
  },
  {
   "cell_type": "markdown",
   "metadata": {
    "slideshow": {
     "slide_type": "fragment"
    }
   },
   "source": [
    "Decorators are wrapper functions that enhance existing functions without modifying them. We will use them for mocks and fixtures."
   ]
  },
  {
   "cell_type": "code",
   "execution_count": null,
   "metadata": {
    "slideshow": {
     "slide_type": "fragment"
    }
   },
   "outputs": [],
   "source": [
    "def myfunction():\n",
    "    return something\n",
    "\n",
    "def decorator():\n",
    "    foo\n",
    "    myfunction()\n",
    "    bar     "
   ]
  },
  {
   "cell_type": "code",
   "execution_count": null,
   "metadata": {
    "slideshow": {
     "slide_type": "fragment"
    }
   },
   "outputs": [],
   "source": [
    "@decorator\n",
    "def myfunction():\n",
    "    return somtehing"
   ]
  },
  {
   "cell_type": "markdown",
   "metadata": {
    "slideshow": {
     "slide_type": "slide"
    }
   },
   "source": [
    "# Mocking"
   ]
  },
  {
   "cell_type": "markdown",
   "metadata": {},
   "source": [
    "Mocking or monkeypatching is used to simulate a function. This can be used if someone else is still working on this function but you need to use its output for your own testing."
   ]
  },
  {
   "cell_type": "code",
   "execution_count": null,
   "metadata": {
    "slideshow": {
     "slide_type": "fragment"
    }
   },
   "outputs": [],
   "source": [
    "@patch('yourmodule.yourfunction', autospec = True, return_value = 10)\n",
    "def test_foo(yourfunction):\n",
    "    assert yourfunction() == 10"
   ]
  },
  {
   "cell_type": "markdown",
   "metadata": {
    "slideshow": {
     "slide_type": "slide"
    }
   },
   "source": [
    "# Fixtures"
   ]
  },
  {
   "cell_type": "markdown",
   "metadata": {},
   "source": [
    "Fixtures are helper functions of your tests. They consist of a setup section (before yield) and a teardown section (after yield). Setup is executed once the fixture is called, teardown is executed when the fixture leaves its scope. This is used to execute code that is shared amongst your tests, like connecting to a server or database. The teardown can ensure that the connection is closed or reset after a certain scope (e.g. after each test, each test module or after the test session)."
   ]
  },
  {
   "cell_type": "code",
   "execution_count": null,
   "metadata": {
    "slideshow": {
     "slide_type": "fragment"
    }
   },
   "outputs": [],
   "source": [
    "@fixture(scope = 'session')\n",
    "def myfixture:\n",
    "    foo\n",
    "    yield return_value\n",
    "    bar\n",
    "\n",
    "def test_foo(myfixture):\n",
    "    myfixture"
   ]
  },
  {
   "cell_type": "markdown",
   "metadata": {},
   "source": [
    "# Testing for errors"
   ]
  },
  {
   "cell_type": "markdown",
   "metadata": {},
   "source": [
    "If you want a function to raise an error or warning under certain conditions, you can write tests to ensure that the error or warning is raised correctly."
   ]
  },
  {
   "cell_type": "code",
   "execution_count": null,
   "metadata": {},
   "outputs": [],
   "source": [
    "from pytest import raises\n",
    "\n",
    "def test_func_raises_exc():\n",
    "    with raises(Exception)\n",
    "        myfunc()\n",
    "        \n",
    "def myfunc():\n",
    "    raise Exception"
   ]
  },
  {
   "cell_type": "markdown",
   "metadata": {
    "slideshow": {
     "slide_type": "slide"
    }
   },
   "source": [
    "# TDD Philosophy"
   ]
  },
  {
   "cell_type": "markdown",
   "metadata": {
    "slideshow": {
     "slide_type": "fragment"
    }
   },
   "source": [
    "- Outside-in: start with an end-to-end test of your program or function and work yourself towards the unit tests\n",
    "- Inside-out: start with a core function (unit) and work yourself towards the entire pipeline or program\n",
    "- functional tests: test one funtionality of your program from end-to-end\n",
    "- Unit tests: test one (atomic) function of your program in isolation\n",
    "- Integration tests: test how multiple units integrate (e.g. if there is unforseen effects when executing them sequentially as opposed to executing them individually)\n",
    "- Continuous integration: as soon as data bases and servers are involved, tests that use them will take up a lot of time. Continuous integration is about executing the tests that take lots of time remotely upon every commit. If the tests are passed, the changes go live, otherwise things are reverted to the previous commit. This way you can program fast locally (because you only use tests isolated from the server or data base) but still guarantee the code functionality"
   ]
  }
 ],
 "metadata": {
  "celltoolbar": "Slideshow",
  "kernelspec": {
   "display_name": "Python 3",
   "language": "python",
   "name": "python3"
  },
  "language_info": {
   "codemirror_mode": {
    "name": "ipython",
    "version": 3
   },
   "file_extension": ".py",
   "mimetype": "text/x-python",
   "name": "python",
   "nbconvert_exporter": "python",
   "pygments_lexer": "ipython3",
   "version": "3.6.6"
  },
  "livereveal": {
   "scroll": true
  }
 },
 "nbformat": 4,
 "nbformat_minor": 2
}
